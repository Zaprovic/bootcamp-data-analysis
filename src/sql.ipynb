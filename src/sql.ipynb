{
 "cells": [
  {
   "cell_type": "code",
   "execution_count": null,
   "metadata": {},
   "outputs": [],
   "source": [
    "import pandas as pd\n",
    "from sqlalchemy import create_engine"
   ]
  },
  {
   "cell_type": "code",
   "execution_count": null,
   "metadata": {},
   "outputs": [],
   "source": [
    "engine = create_engine('sqlite:///../databases/entomologico.db')\n",
    "df = pd.read_csv(\"../data/entomologico.csv\")"
   ]
  },
  {
   "cell_type": "code",
   "execution_count": null,
   "metadata": {},
   "outputs": [],
   "source": [
    "with open('../database/entomologico.sql', 'w') as f:\n",
    "    f.write(\"DROP DATABASE IF EXISTS dengue_db;\\n\\n\")\n",
    "    f.write(\"CREATE DATABASE IF NOT EXISTS dengue_db;\\n\\n\")\n",
    "    f.write(\"USE dengue_db;\\n\\n\")\n",
    "    table_creation = pd.io.sql.get_schema(df, 'entomologico', con=engine)\n",
    "    # table_creation = table_creation.rstrip('\\n')\n",
    "    # f.write(f\"{table_creation};\\n\\n\")\n",
    "    \n",
    "    # for _, row in df.iterrows():\n",
    "    #     columns = \", \".join(f\"`{col}`\" for col in row.index)\n",
    "        \n",
    "    #     vals = []\n",
    "        \n",
    "    #     for val in row:\n",
    "    #         if pd.isna(val):\n",
    "    #             vals.append(\"NULL\")\n",
    "                \n",
    "    #         elif isinstance(val, (int, float)):\n",
    "    #             vals.append(str(val))\n",
    "            \n",
    "    #         elif isinstance(val, bool):\n",
    "    #             vals.append('1' if val else '0')\n",
    "                \n",
    "    #         else:\n",
    "    #             val_str = str(val).replace(\"'\", \"''\")\n",
    "    #             vals.append(f\"'{val_str}'\")\n",
    "                \n",
    "    #     values = \", \".join(vals)\n",
    "    #     f.write(f\"INSERT INTO entomologico ({columns}) VALUES ({values});\\n\")"
   ]
  }
 ],
 "metadata": {
  "kernelspec": {
   "display_name": ".env",
   "language": "python",
   "name": "python3"
  },
  "language_info": {
   "codemirror_mode": {
    "name": "ipython",
    "version": 3
   },
   "file_extension": ".py",
   "mimetype": "text/x-python",
   "name": "python",
   "nbconvert_exporter": "python",
   "pygments_lexer": "ipython3",
   "version": "3.12.3"
  }
 },
 "nbformat": 4,
 "nbformat_minor": 2
}
